{
 "cells": [
  {
   "cell_type": "code",
   "execution_count": 1,
   "id": "687beb07-9d7d-4f08-a7bd-0bb6a2d74dda",
   "metadata": {},
   "outputs": [],
   "source": [
    "#1 \n",
    "#Guido van Rossum developd the python languange."
   ]
  },
  {
   "cell_type": "code",
   "execution_count": 2,
   "id": "0dd4dc13-b7f0-4269-ae1b-b6b9e6071a42",
   "metadata": {},
   "outputs": [],
   "source": [
    "#2\n",
    "# python supports the object oriented programming and structured programming."
   ]
  },
  {
   "cell_type": "code",
   "execution_count": 3,
   "id": "3662cfc5-2629-446c-a1af-e9b2dff29281",
   "metadata": {},
   "outputs": [],
   "source": [
    "#3\n",
    "# Yes python is case sensitive languange."
   ]
  },
  {
   "cell_type": "code",
   "execution_count": 4,
   "id": "57774556-adf4-4d88-a557-5a07294be9ed",
   "metadata": {},
   "outputs": [],
   "source": [
    "#4\n",
    "# .py is the extenction for python file."
   ]
  },
  {
   "cell_type": "code",
   "execution_count": 5,
   "id": "ee2257af-5034-4f58-aaff-1114c26b723c",
   "metadata": {},
   "outputs": [],
   "source": [
    "#5\n",
    "#python is an inerpreted language."
   ]
  },
  {
   "cell_type": "code",
   "execution_count": 6,
   "id": "c92bc3f9-ccd8-4788-9410-dde54def40cd",
   "metadata": {},
   "outputs": [],
   "source": [
    "#6\n",
    "#  a module, a function body, and a class definition."
   ]
  },
  {
   "cell_type": "code",
   "execution_count": 7,
   "id": "6d2d077f-5186-4d50-a129-614d656d0db4",
   "metadata": {},
   "outputs": [],
   "source": [
    "#7\n",
    "# # is used  character for single line comment."
   ]
  },
  {
   "cell_type": "code",
   "execution_count": 8,
   "id": "066a4e5b-8952-444e-8fcc-b6facad60bb9",
   "metadata": {},
   "outputs": [],
   "source": [
    "#8\n",
    "# python_version() "
   ]
  },
  {
   "cell_type": "code",
   "execution_count": 9,
   "id": "8a6d778b-7df1-4e0e-8a62-e2f7fe602541",
   "metadata": {},
   "outputs": [],
   "source": [
    "#9\n",
    "# lambda"
   ]
  },
  {
   "cell_type": "code",
   "execution_count": 10,
   "id": "1363824e-c56c-48d8-80b6-4ef11b19bd9d",
   "metadata": {},
   "outputs": [],
   "source": [
    "#10\n",
    "#preferred installer program"
   ]
  },
  {
   "cell_type": "code",
   "execution_count": 11,
   "id": "6186048f-10a7-490f-8de1-160d561e993f",
   "metadata": {},
   "outputs": [],
   "source": [
    "#11\n",
    "#print( ) .type( ) .input( ) .abs( ) .pow( ) dir( ) .sorted( ) .max( )"
   ]
  },
  {
   "cell_type": "code",
   "execution_count": 12,
   "id": "bde76907-6512-440a-97b3-b81cbd6ff0aa",
   "metadata": {},
   "outputs": [],
   "source": [
    "#12\n",
    "# 79 character are the maximum length "
   ]
  },
  {
   "cell_type": "code",
   "execution_count": 14,
   "id": "30bb78ee-9679-4c97-b29a-6c83e909d358",
   "metadata": {},
   "outputs": [
    {
     "data": {
      "text/plain": [
       "'Data science.\\nScientific and mathematical computing.\\nWeb development.\\nFinance and trading.\\nSystem automation and administration.\\nComputer graphics.\\nBasic game development.\\nSecurity and penetration testing.'"
      ]
     },
     "execution_count": 14,
     "metadata": {},
     "output_type": "execute_result"
    }
   ],
   "source": [
    "#13\n",
    "\"\"\"Data science.\n",
    "Scientific and mathematical computing.\n",
    "Web development.\n",
    "Finance and trading.\n",
    "System automation and administration.\n",
    "Computer graphics.\n",
    "Basic game development.\n",
    "Security and penetration testing.\"\"\""
   ]
  },
  {
   "cell_type": "code",
   "execution_count": 15,
   "id": "f4399ea8-fb12-4b7d-ace8-ee1f8ac3f29f",
   "metadata": {},
   "outputs": [],
   "source": [
    "#14\n",
    "#Memory management in Python involves a private heap containing all Python objects and data structures. The management of this private heap is ensured internally by the Python memory manager"
   ]
  },
  {
   "cell_type": "code",
   "execution_count": 16,
   "id": "42a05263-cef1-478b-a1af-f6a57a9221eb",
   "metadata": {},
   "outputs": [],
   "source": [
    "#15\n",
    "#Right-clicking This PC and going to Properties.\n",
    "\n",
    "#Clicking on the Advanced system settings in the menu on the left.\n",
    "#Clicking on the Environment Variables button on the bottom right.\n",
    "#In the System variables section, selecting the Path variable and clicking on Edit. The next screen will show all the directories that are currently a part of the PATH variable.\n",
    "#Clicking on New and entering Python’s install directory"
   ]
  },
  {
   "cell_type": "code",
   "execution_count": 17,
   "id": "bbeb826c-0578-4dd6-a7d0-fff1c4c45640",
   "metadata": {},
   "outputs": [],
   "source": [
    "#16\n",
    "#yes python requires identifiers."
   ]
  },
  {
   "cell_type": "code",
   "execution_count": null,
   "id": "4ee0bd94-7f7f-4c1e-a203-cfebab78edc7",
   "metadata": {},
   "outputs": [],
   "source": []
  }
 ],
 "metadata": {
  "kernelspec": {
   "display_name": "Python 3 (ipykernel)",
   "language": "python",
   "name": "python3"
  },
  "language_info": {
   "codemirror_mode": {
    "name": "ipython",
    "version": 3
   },
   "file_extension": ".py",
   "mimetype": "text/x-python",
   "name": "python",
   "nbconvert_exporter": "python",
   "pygments_lexer": "ipython3",
   "version": "3.10.8"
  }
 },
 "nbformat": 4,
 "nbformat_minor": 5
}
